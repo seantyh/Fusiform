{
 "cells": [
  {
   "cell_type": "markdown",
   "metadata": {},
   "source": [
    "# Affective Lexicon - Recoded"
   ]
  },
  {
   "cell_type": "code",
   "execution_count": 1,
   "metadata": {},
   "outputs": [],
   "source": [
    "%matplotlib inline\n",
    "import sys\n",
    "sys.path.append(\"../30_Code/\")"
   ]
  },
  {
   "cell_type": "code",
   "execution_count": 2,
   "metadata": {},
   "outputs": [],
   "source": [
    "import re\n",
    "import matplotlib.pyplot as plt\n",
    "import pandas as pd\n",
    "import Fusiform"
   ]
  },
  {
   "cell_type": "markdown",
   "metadata": {},
   "source": [
    "## Data Import"
   ]
  },
  {
   "cell_type": "code",
   "execution_count": 3,
   "metadata": {},
   "outputs": [],
   "source": [
    "aff_ori_path = Fusiform.get_resource_path('', 'combine_0508_all.1.csv')\n",
    "data = pd.read_csv(aff_ori_path, encoding=\"cp950\")"
   ]
  },
  {
   "cell_type": "markdown",
   "metadata": {},
   "source": [
    "## Preprocessing Functions"
   ]
  },
  {
   "cell_type": "code",
   "execution_count": 4,
   "metadata": {},
   "outputs": [],
   "source": [
    "def recode(inseries, orival):\n",
    "    flags = inseries.str.contains(orival)\n",
    "    flags.fillna(False, inplace=True)\n",
    "    flags = flags.astype('int32')\n",
    "    return flags\n",
    "\n",
    "def is_cjk_word(x):\n",
    "    if isinstance(x, str):\n",
    "        return bool(re.match(\"[\\u4e00-\\u9fff]+\", x))\n",
    "    else:\n",
    "        return False"
   ]
  },
  {
   "cell_type": "code",
   "execution_count": 5,
   "metadata": {},
   "outputs": [],
   "source": [
    "afflex = data.loc[:, [\"lemma\",\"Emotion_Category\", \"Polarity\"]]"
   ]
  },
  {
   "cell_type": "markdown",
   "metadata": {},
   "source": [
    "## Simple descriptive statistics on variables"
   ]
  },
  {
   "cell_type": "markdown",
   "metadata": {},
   "source": [
    "### Emotion Category (Ekman's basic emotion)\n",
    "> Happy(1), Sad(2), Fear(3), Anger(4), Surprise(5)"
   ]
  },
  {
   "cell_type": "code",
   "execution_count": 6,
   "metadata": {},
   "outputs": [
    {
     "data": {
      "text/plain": [
       "4        3362\n",
       "1        2618\n",
       "2        2234\n",
       "3        1611\n",
       "5         322\n",
       "3,4        61\n",
       "2,4        54\n",
       "2,3        53\n",
       "2,3,4       4\n",
       "3,5         4\n",
       "1,2         3\n",
       "2,5         3\n",
       "1,5         2\n",
       "0           2\n",
       "1,3         1\n",
       "4,5         1\n",
       "Name: Emotion_Category, dtype: int64"
      ]
     },
     "execution_count": 6,
     "metadata": {},
     "output_type": "execute_result"
    }
   ],
   "source": [
    "afflex.Emotion_Category.value_counts()"
   ]
  },
  {
   "cell_type": "markdown",
   "metadata": {},
   "source": [
    "## Sentiment Polarity\n",
    "> Negative(N), Positive(P), Neutral(0), Complex(C)"
   ]
  },
  {
   "cell_type": "code",
   "execution_count": 7,
   "metadata": {},
   "outputs": [
    {
     "data": {
      "text/plain": [
       "N    8951\n",
       "P    4198\n",
       "0     473\n",
       "C      49\n",
       "Name: Polarity, dtype: int64"
      ]
     },
     "execution_count": 7,
     "metadata": {},
     "output_type": "execute_result"
    }
   ],
   "source": [
    "afflex.Polarity.value_counts()"
   ]
  },
  {
   "cell_type": "markdown",
   "metadata": {},
   "source": [
    "## Recode variables to one-hot encoding"
   ]
  },
  {
   "cell_type": "code",
   "execution_count": 8,
   "metadata": {},
   "outputs": [],
   "source": [
    "afflex[\"IsHappy\"] = recode(afflex.Emotion_Category, \"1\")\n",
    "afflex[\"IsSad\"] = recode(afflex.Emotion_Category, \"2\")\n",
    "afflex[\"IsFear\"] = recode(afflex.Emotion_Category, \"3\")\n",
    "afflex[\"IsAnger\"] = recode(afflex.Emotion_Category, \"4\")\n",
    "afflex[\"IsSurprise\"] = recode(afflex.Emotion_Category, \"5\")\n",
    "afflex[\"IsPositive\"] = recode(afflex.Polarity, \"P\")\n",
    "afflex[\"IsNegative\"] = recode(afflex.Polarity, \"N\")\n",
    "afflex[\"IsNeutral\"] = recode(afflex.Polarity, \"0\")\n",
    "afflex[\"IsComplex\"] = recode(afflex.Polarity, \"C\")\n",
    "afflex.drop(['Emotion_Category', 'Polarity'], axis=1, inplace=True)\n",
    "afflex.set_index('lemma', inplace=True)"
   ]
  },
  {
   "cell_type": "markdown",
   "metadata": {},
   "source": [
    "## Remove unwanted entries\n",
    "1. lemma containing emoticons or alphanumeric, since they cannot be represented in EC-space\n",
    "2. remove those lemmas not having any `1's` in the resulting encoding vectors"
   ]
  },
  {
   "cell_type": "code",
   "execution_count": 9,
   "metadata": {},
   "outputs": [],
   "source": [
    "cjk_mask = afflex.index.map(is_cjk_word)\n",
    "# remove non-cjk words (e.g. emoticons, and alphanumeric expression)\n",
    "# they are removed because they cannot be mapped into EC-space\n",
    "afflex = afflex.loc[cjk_mask, :]\n",
    "afflex = afflex.loc[afflex.sum(1) > 0, :]"
   ]
  },
  {
   "cell_type": "code",
   "execution_count": 10,
   "metadata": {},
   "outputs": [
    {
     "data": {
      "text/plain": [
       "(14283, 9)"
      ]
     },
     "execution_count": 10,
     "metadata": {},
     "output_type": "execute_result"
    }
   ],
   "source": [
    "afflex.shape"
   ]
  },
  {
   "cell_type": "code",
   "execution_count": 11,
   "metadata": {},
   "outputs": [
    {
     "data": {
      "text/html": [
       "<div>\n",
       "<style scoped>\n",
       "    .dataframe tbody tr th:only-of-type {\n",
       "        vertical-align: middle;\n",
       "    }\n",
       "\n",
       "    .dataframe tbody tr th {\n",
       "        vertical-align: top;\n",
       "    }\n",
       "\n",
       "    .dataframe thead th {\n",
       "        text-align: right;\n",
       "    }\n",
       "</style>\n",
       "<table border=\"1\" class=\"dataframe\">\n",
       "  <thead>\n",
       "    <tr style=\"text-align: right;\">\n",
       "      <th></th>\n",
       "      <th>IsHappy</th>\n",
       "      <th>IsSad</th>\n",
       "      <th>IsFear</th>\n",
       "      <th>IsAnger</th>\n",
       "      <th>IsSurprise</th>\n",
       "      <th>IsPositive</th>\n",
       "      <th>IsNegative</th>\n",
       "      <th>IsNeutral</th>\n",
       "      <th>IsComplex</th>\n",
       "    </tr>\n",
       "    <tr>\n",
       "      <th>lemma</th>\n",
       "      <th></th>\n",
       "      <th></th>\n",
       "      <th></th>\n",
       "      <th></th>\n",
       "      <th></th>\n",
       "      <th></th>\n",
       "      <th></th>\n",
       "      <th></th>\n",
       "      <th></th>\n",
       "    </tr>\n",
       "  </thead>\n",
       "  <tbody>\n",
       "    <tr>\n",
       "      <th>驚嚇</th>\n",
       "      <td>0</td>\n",
       "      <td>0</td>\n",
       "      <td>1</td>\n",
       "      <td>0</td>\n",
       "      <td>0</td>\n",
       "      <td>0</td>\n",
       "      <td>1</td>\n",
       "      <td>0</td>\n",
       "      <td>0</td>\n",
       "    </tr>\n",
       "    <tr>\n",
       "      <th>鬱鬱寡歡</th>\n",
       "      <td>0</td>\n",
       "      <td>1</td>\n",
       "      <td>0</td>\n",
       "      <td>0</td>\n",
       "      <td>0</td>\n",
       "      <td>0</td>\n",
       "      <td>1</td>\n",
       "      <td>0</td>\n",
       "      <td>0</td>\n",
       "    </tr>\n",
       "    <tr>\n",
       "      <th>鬱鬱不樂</th>\n",
       "      <td>0</td>\n",
       "      <td>1</td>\n",
       "      <td>0</td>\n",
       "      <td>0</td>\n",
       "      <td>0</td>\n",
       "      <td>0</td>\n",
       "      <td>1</td>\n",
       "      <td>0</td>\n",
       "      <td>0</td>\n",
       "    </tr>\n",
       "    <tr>\n",
       "      <th>鬱結</th>\n",
       "      <td>0</td>\n",
       "      <td>1</td>\n",
       "      <td>0</td>\n",
       "      <td>0</td>\n",
       "      <td>0</td>\n",
       "      <td>0</td>\n",
       "      <td>1</td>\n",
       "      <td>0</td>\n",
       "      <td>0</td>\n",
       "    </tr>\n",
       "    <tr>\n",
       "      <th>鬱悶</th>\n",
       "      <td>0</td>\n",
       "      <td>1</td>\n",
       "      <td>0</td>\n",
       "      <td>0</td>\n",
       "      <td>0</td>\n",
       "      <td>0</td>\n",
       "      <td>1</td>\n",
       "      <td>0</td>\n",
       "      <td>0</td>\n",
       "    </tr>\n",
       "  </tbody>\n",
       "</table>\n",
       "</div>"
      ],
      "text/plain": [
       "       IsHappy  IsSad  IsFear  IsAnger  IsSurprise  IsPositive  IsNegative  \\\n",
       "lemma                                                                        \n",
       "驚嚇           0      0       1        0           0           0           1   \n",
       "鬱鬱寡歡         0      1       0        0           0           0           1   \n",
       "鬱鬱不樂         0      1       0        0           0           0           1   \n",
       "鬱結           0      1       0        0           0           0           1   \n",
       "鬱悶           0      1       0        0           0           0           1   \n",
       "\n",
       "       IsNeutral  IsComplex  \n",
       "lemma                        \n",
       "驚嚇             0          0  \n",
       "鬱鬱寡歡           0          0  \n",
       "鬱鬱不樂           0          0  \n",
       "鬱結             0          0  \n",
       "鬱悶             0          0  "
      ]
     },
     "execution_count": 11,
     "metadata": {},
     "output_type": "execute_result"
    }
   ],
   "source": [
    "afflex.head()"
   ]
  },
  {
   "cell_type": "code",
   "execution_count": 16,
   "metadata": {},
   "outputs": [],
   "source": [
    "from tabulate import tabulate"
   ]
  },
  {
   "cell_type": "code",
   "execution_count": 21,
   "metadata": {},
   "outputs": [
    {
     "name": "stdout",
     "output_type": "stream",
     "text": [
      "| lemma    |   IsHappy |   IsSad |   IsFear |   IsAnger |   IsSurprise |   IsPositive |   IsNegative |   IsNeutral |   IsComplex |\n",
      "|:---------|----------:|--------:|---------:|----------:|-------------:|-------------:|-------------:|------------:|------------:|\n",
      "| 驚嚇     |         0 |       0 |        1 |         0 |            0 |            0 |            1 |           0 |           0 |\n",
      "| 鬱鬱寡歡 |         0 |       1 |        0 |         0 |            0 |            0 |            1 |           0 |           0 |\n",
      "| 鬱鬱不樂 |         0 |       1 |        0 |         0 |            0 |            0 |            1 |           0 |           0 |\n",
      "| 鬱結     |         0 |       1 |        0 |         0 |            0 |            0 |            1 |           0 |           0 |\n",
      "| 鬱悶     |         0 |       1 |        0 |         0 |            0 |            0 |            1 |           0 |           0 |\n"
     ]
    }
   ],
   "source": [
    "print(tabulate(afflex.head(), tablefmt='pipe', headers='keys'))"
   ]
  },
  {
   "cell_type": "markdown",
   "metadata": {},
   "source": [
    "## Descriptive Statistics"
   ]
  },
  {
   "cell_type": "code",
   "execution_count": 12,
   "metadata": {},
   "outputs": [
    {
     "data": {
      "text/plain": [
       "IsHappy       2469\n",
       "IsSad         2274\n",
       "IsFear        1727\n",
       "IsAnger       3438\n",
       "IsSurprise     309\n",
       "IsPositive    4037\n",
       "IsNegative    8811\n",
       "IsNeutral      449\n",
       "IsComplex       49\n",
       "dtype: int64"
      ]
     },
     "execution_count": 12,
     "metadata": {},
     "output_type": "execute_result"
    }
   ],
   "source": [
    "afflex.sum(0)"
   ]
  },
  {
   "cell_type": "code",
   "execution_count": 13,
   "metadata": {},
   "outputs": [
    {
     "data": {
      "image/png": "[encoded data removed]",
      "text/plain": [
       "<Figure size 288x288 with 2 Axes>"
      ]
     },
     "metadata": {
      "needs_background": "light"
     },
     "output_type": "display_data"
    }
   ],
   "source": [
    "corr = afflex.corr()\n",
    "plt.matshow(corr, cmap='seismic')\n",
    "plt.colorbar()\n",
    "plt.xticks(range(len(corr.columns)), corr.columns, rotation='vertical')\n",
    "plt.yticks(range(len(corr.columns)), corr.columns)\n",
    "plt.show()"
   ]
  },
  {
   "cell_type": "markdown",
   "metadata": {},
   "source": [
    "## Data export"
   ]
  },
  {
   "cell_type": "code",
   "execution_count": 14,
   "metadata": {},
   "outputs": [],
   "source": [
    "afflex_path = Fusiform.get_data_path('lexicon', 'afflex.csv')\n",
    "afflex.to_csv(afflex_path)"
   ]
  },
  {
   "cell_type": "code",
   "execution_count": null,
   "metadata": {},
   "outputs": [],
   "source": []
  }
 ],
 "metadata": {
  "kernelspec": {
   "display_name": "Python 3",
   "language": "python",
   "name": "python3"
  },
  "language_info": {
   "codemirror_mode": {
    "name": "ipython",
    "version": 3
   },
   "file_extension": ".py",
   "mimetype": "text/x-python",
   "name": "python",
   "nbconvert_exporter": "python",
   "pygments_lexer": "ipython3",
   "version": "3.7.2"
  }
 },
 "nbformat": 4,
 "nbformat_minor": 2
}
