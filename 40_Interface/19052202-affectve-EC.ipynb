{
 "cells": [
  {
   "cell_type": "markdown",
   "metadata": {},
   "source": [
    "# Affective-EC"
   ]
  },
  {
   "cell_type": "code",
   "execution_count": 1,
   "metadata": {},
   "outputs": [],
   "source": [
    "%load_ext autoreload\n",
    "%autoreload 2\n",
    "%matplotlib inline"
   ]
  },
  {
   "cell_type": "code",
   "execution_count": 2,
   "metadata": {},
   "outputs": [],
   "source": [
    "import sys\n",
    "sys.path.append(\"../30_Code/\")"
   ]
  },
  {
   "cell_type": "code",
   "execution_count": 3,
   "metadata": {},
   "outputs": [],
   "source": [
    "import pickle\n",
    "from matplotlib import pyplot as plt\n",
    "import numpy as np\n",
    "import pandas as pd\n",
    "from torch.utils.data import DataLoader\n",
    "from tqdm import tqdm_notebook as tqdm\n",
    "from itertools import islice, filterfalse"
   ]
  },
  {
   "cell_type": "code",
   "execution_count": 4,
   "metadata": {},
   "outputs": [],
   "source": [
    "import Fusiform"
   ]
  },
  {
   "cell_type": "markdown",
   "metadata": {},
   "source": [
    "## Data Import"
   ]
  },
  {
   "cell_type": "code",
   "execution_count": 6,
   "metadata": {},
   "outputs": [
    {
     "data": {
      "text/html": [
       "<div>\n",
       "<style scoped>\n",
       "    .dataframe tbody tr th:only-of-type {\n",
       "        vertical-align: middle;\n",
       "    }\n",
       "\n",
       "    .dataframe tbody tr th {\n",
       "        vertical-align: top;\n",
       "    }\n",
       "\n",
       "    .dataframe thead th {\n",
       "        text-align: right;\n",
       "    }\n",
       "</style>\n",
       "<table border=\"1\" class=\"dataframe\">\n",
       "  <thead>\n",
       "    <tr style=\"text-align: right;\">\n",
       "      <th></th>\n",
       "      <th>IsHappy</th>\n",
       "      <th>IsSad</th>\n",
       "      <th>IsFear</th>\n",
       "      <th>IsAnger</th>\n",
       "      <th>IsSurprise</th>\n",
       "      <th>IsPositive</th>\n",
       "      <th>IsNegative</th>\n",
       "      <th>IsNeutral</th>\n",
       "      <th>IsComplex</th>\n",
       "    </tr>\n",
       "    <tr>\n",
       "      <th>lemma</th>\n",
       "      <th></th>\n",
       "      <th></th>\n",
       "      <th></th>\n",
       "      <th></th>\n",
       "      <th></th>\n",
       "      <th></th>\n",
       "      <th></th>\n",
       "      <th></th>\n",
       "      <th></th>\n",
       "    </tr>\n",
       "  </thead>\n",
       "  <tbody>\n",
       "    <tr>\n",
       "      <th>從</th>\n",
       "      <td>1</td>\n",
       "      <td>0</td>\n",
       "      <td>0</td>\n",
       "      <td>0</td>\n",
       "      <td>0</td>\n",
       "      <td>1</td>\n",
       "      <td>0</td>\n",
       "      <td>0</td>\n",
       "      <td>0</td>\n",
       "    </tr>\n",
       "    <tr>\n",
       "      <th>暴</th>\n",
       "      <td>0</td>\n",
       "      <td>0</td>\n",
       "      <td>0</td>\n",
       "      <td>1</td>\n",
       "      <td>0</td>\n",
       "      <td>0</td>\n",
       "      <td>1</td>\n",
       "      <td>0</td>\n",
       "      <td>0</td>\n",
       "    </tr>\n",
       "    <tr>\n",
       "      <th>豬</th>\n",
       "      <td>0</td>\n",
       "      <td>0</td>\n",
       "      <td>0</td>\n",
       "      <td>1</td>\n",
       "      <td>0</td>\n",
       "      <td>0</td>\n",
       "      <td>1</td>\n",
       "      <td>0</td>\n",
       "      <td>0</td>\n",
       "    </tr>\n",
       "    <tr>\n",
       "      <th>跪</th>\n",
       "      <td>0</td>\n",
       "      <td>1</td>\n",
       "      <td>0</td>\n",
       "      <td>0</td>\n",
       "      <td>0</td>\n",
       "      <td>0</td>\n",
       "      <td>1</td>\n",
       "      <td>0</td>\n",
       "      <td>0</td>\n",
       "    </tr>\n",
       "    <tr>\n",
       "      <th>嚷</th>\n",
       "      <td>0</td>\n",
       "      <td>0</td>\n",
       "      <td>0</td>\n",
       "      <td>1</td>\n",
       "      <td>0</td>\n",
       "      <td>0</td>\n",
       "      <td>1</td>\n",
       "      <td>0</td>\n",
       "      <td>0</td>\n",
       "    </tr>\n",
       "  </tbody>\n",
       "</table>\n",
       "</div>"
      ],
      "text/plain": [
       "       IsHappy  IsSad  IsFear  IsAnger  IsSurprise  IsPositive  IsNegative  \\\n",
       "lemma                                                                        \n",
       "從            1      0       0        0           0           1           0   \n",
       "暴            0      0       0        1           0           0           1   \n",
       "豬            0      0       0        1           0           0           1   \n",
       "跪            0      1       0        0           0           0           1   \n",
       "嚷            0      0       0        1           0           0           1   \n",
       "\n",
       "       IsNeutral  IsComplex  \n",
       "lemma                        \n",
       "從              0          0  \n",
       "暴              0          0  \n",
       "豬              0          0  \n",
       "跪              0          0  \n",
       "嚷              0          0  "
      ]
     },
     "execution_count": 6,
     "metadata": {},
     "output_type": "execute_result"
    }
   ],
   "source": [
    "rs = np.random.RandomState(2254)\n",
    "afflex_path = Fusiform.get_data_path('lexicon', 'afflex.csv')\n",
    "afflex = pd.read_csv(afflex_path, index_col=0)\n",
    "afflex = afflex.loc[rs.rand(afflex.shape[0])<1, :]\n",
    "afflex[\"lemmalen\"] = afflex.index.str.len()\n",
    "afflex = afflex.sort_values(\"lemmalen\").drop(\"lemmalen\", axis=1)\n",
    "afflex.head()"
   ]
  },
  {
   "cell_type": "code",
   "execution_count": 7,
   "metadata": {},
   "outputs": [],
   "source": [
    "cv_path = Fusiform.get_data_path(\"\", \"charac_coeff.pkl\")\n",
    "with open(cv_path, \"rb\") as fin:\n",
    "    cv_itos, cv_stoi, cv_vectors = pickle.load(fin)\n",
    "char_space50 = Fusiform.CharacterSpace(cv_itos, cv_stoi, cv_vectors, n_components=50)"
   ]
  },
  {
   "cell_type": "code",
   "execution_count": 8,
   "metadata": {},
   "outputs": [
    {
     "name": "stdout",
     "output_type": "stream",
     "text": [
      "OOV: 119/3078 = 3.87%\n"
     ]
    }
   ],
   "source": [
    "from itertools import chain\n",
    "uniq_affchars = set(chain.from_iterable(x for x in afflex.index))\n",
    "n_missed = sum(1 for x in uniq_affchars if x not in char_space50.stoi)\n",
    "print(f\"OOV: {n_missed}/{len(uniq_affchars)} = {n_missed/len(uniq_affchars)*100:#.2f}%\")"
   ]
  },
  {
   "cell_type": "markdown",
   "metadata": {},
   "source": [
    "## Prepare dataset"
   ]
  },
  {
   "cell_type": "code",
   "execution_count": 9,
   "metadata": {},
   "outputs": [
    {
     "name": "stdout",
     "output_type": "stream",
     "text": [
      "aff_ds N:10032\n"
     ]
    }
   ],
   "source": [
    "aff_ds = Fusiform.AffectiveDataset(char_space50, afflex)\n",
    "print(f'aff_ds N:{len(aff_ds)}')"
   ]
  },
  {
   "cell_type": "code",
   "execution_count": 10,
   "metadata": {},
   "outputs": [],
   "source": [
    "loader = DataLoader(aff_ds, batch_size=2, collate_fn=Fusiform.dataset.collate_fn)"
   ]
  },
  {
   "cell_type": "code",
   "execution_count": 11,
   "metadata": {},
   "outputs": [
    {
     "data": {
      "text/plain": [
       "torch.Size([1, 50])"
      ]
     },
     "execution_count": 11,
     "metadata": {},
     "output_type": "execute_result"
    }
   ],
   "source": [
    "aff_ds[1][0].shape"
   ]
  },
  {
   "cell_type": "code",
   "execution_count": 12,
   "metadata": {},
   "outputs": [
    {
     "name": "stdout",
     "output_type": "stream",
     "text": [
      "torch.Size([2, 1, 50])\n",
      "torch.Size([2, 5])\n"
     ]
    }
   ],
   "source": [
    "xx, yy = next(iter(loader))\n",
    "print(xx.shape)\n",
    "print(yy.shape)"
   ]
  },
  {
   "cell_type": "markdown",
   "metadata": {},
   "source": [
    "## Build NN model"
   ]
  },
  {
   "cell_type": "code",
   "execution_count": 16,
   "metadata": {},
   "outputs": [],
   "source": [
    "import torch\n",
    "import torch.nn as nn\n",
    "import torch.nn.functional as F\n",
    "import torch.optim as optim"
   ]
  },
  {
   "cell_type": "code",
   "execution_count": 17,
   "metadata": {},
   "outputs": [
    {
     "data": {
      "text/plain": [
       "device(type='cuda')"
      ]
     },
     "execution_count": 17,
     "metadata": {},
     "output_type": "execute_result"
    }
   ],
   "source": [
    "USE_CUDA = True\n",
    "if torch.cuda.is_available() and USE_CUDA:    \n",
    "    device = torch.device('cuda')\n",
    "else:\n",
    "    device = torch.device('cpu')\n",
    "device"
   ]
  },
  {
   "cell_type": "code",
   "execution_count": 13,
   "metadata": {},
   "outputs": [],
   "source": [
    "feat_dim = xx.shape[-1]\n",
    "hidden_dim = 100\n",
    "out_dim = yy.shape[-1]"
   ]
  },
  {
   "cell_type": "code",
   "execution_count": 33,
   "metadata": {},
   "outputs": [],
   "source": [
    "loader = DataLoader(aff_ds, batch_size=100, collate_fn=Fusiform.dataset.collate_fn)\n",
    "model = Fusiform.AffectiveEcModel(feat_dim, hidden_dim, out_dim)\n",
    "adam = optim.Adam(model.parameters(), lr=0.005)\n",
    "model.to(device)\n",
    "loss_vec = []\n",
    "acc_vec = []\n",
    "recall_vec = []\n",
    "prec_vec = []"
   ]
  },
  {
   "cell_type": "code",
   "execution_count": 36,
   "metadata": {},
   "outputs": [
    {
     "data": {
      "application/vnd.jupyter.widget-view+json": {
       "model_id": "3a8eb183b43240a69c7771334b341180",
       "version_major": 2,
       "version_minor": 0
      },
      "text/plain": [
       "HBox(children=(IntProgress(value=0), HTML(value='')))"
      ]
     },
     "metadata": {},
     "output_type": "display_data"
    },
    {
     "name": "stdout",
     "output_type": "stream",
     "text": [
      "\n"
     ]
    }
   ],
   "source": [
    "n_epoch = 100\n",
    "for _ in tqdm(range(n_epoch)):\n",
    "    loss_epoch = []\n",
    "    acc_epoch = []\n",
    "    recall_epoch = []\n",
    "    prec_epoch = []\n",
    "    # loader_iter = islice(loader, 100)    \n",
    "    loader_iter = iter(loader)\n",
    "    for xx, yy in loader_iter:\n",
    "        xx = xx.to(device)\n",
    "        yy = yy.to(device)\n",
    "        ypred = model(xx)\n",
    "        loss = F.binary_cross_entropy(ypred, yy.float(), reduction='sum')\n",
    "\n",
    "        adam.zero_grad()\n",
    "        loss.backward()\n",
    "        loss_epoch.append(loss.item())\n",
    "        acc = torch.eq(ypred > 0.5, yy==1.).sum().float() / yy.numel()\n",
    "        acc_epoch.append(acc.item())\n",
    "        recall = ((ypred>0.5).float() * yy).sum().float() / yy.sum()\n",
    "        recall_epoch.append(recall.item())\n",
    "        prec = ((ypred<0.5).float() * (1-yy)).sum().float() / (1-yy).sum()\n",
    "        prec_epoch.append(prec.item())\n",
    "        adam.step()\n",
    "    loss_vec.append(np.mean(loss_epoch))\n",
    "    acc_vec.append(np.mean(acc_epoch))\n",
    "    recall_vec.append(np.nanmean(recall_epoch))\n",
    "    prec_vec.append(np.nanmean(prec_epoch))"
   ]
  },
  {
   "cell_type": "code",
   "execution_count": 37,
   "metadata": {},
   "outputs": [
    {
     "data": {
      "text/plain": [
       "Text(0.5,1,'Precision')"
      ]
     },
     "execution_count": 37,
     "metadata": {},
     "output_type": "execute_result"
    },
    {
     "data": {
      "image/png": "[encoded data removed]",
      "text/plain": [
       "<Figure size 576x576 with 4 Axes>"
      ]
     },
     "metadata": {
      "needs_background": "light"
     },
     "output_type": "display_data"
    }
   ],
   "source": [
    "fig, axes = plt.subplots(2, 2)\n",
    "fig.set_size_inches((8,8))\n",
    "axes[0][0].plot(loss_vec)\n",
    "axes[0][0].set_title('Loss')\n",
    "axes[0][1].plot(acc_vec)\n",
    "axes[0,1].set_title('Accuracy')\n",
    "axes[1,0].plot(recall_vec)\n",
    "axes[1,0].set_title('Recall')\n",
    "axes[1,1].plot(prec_vec)\n",
    "axes[1,1].set_title('Precision')"
   ]
  },
  {
   "cell_type": "code",
   "execution_count": 38,
   "metadata": {},
   "outputs": [],
   "source": [
    "model_path = Fusiform.get_data_path(\"nnmodel\", \"nnmodel.H100.pt\")\n",
    "torch.save(model.state_dict(), model_path)"
   ]
  },
  {
   "cell_type": "code",
   "execution_count": 40,
   "metadata": {},
   "outputs": [],
   "source": [
    "model_diag_path = Fusiform.get_data_path(\"nnmodel\", \"nnmodel.H100.diag.pt\")\n",
    "torch.save({\"loss\": loss_vec, \"accuracy\": acc_vec,\n",
    "           \"recall\": recall_vec, \"precision\": prec_vec}, model_diag_path)"
   ]
  },
  {
   "cell_type": "markdown",
   "metadata": {},
   "source": [
    "## Model Evaluation"
   ]
  },
  {
   "cell_type": "code",
   "execution_count": 17,
   "metadata": {},
   "outputs": [],
   "source": [
    "feat_dim = xx.shape[-1]\n",
    "hidden_dim = 100\n",
    "out_dim = yy.shape[-1]"
   ]
  },
  {
   "cell_type": "code",
   "execution_count": 18,
   "metadata": {},
   "outputs": [],
   "source": [
    "model_path = Fusiform.get_data_path(\"nnmodel\", \"nnmodel.H100.pt\")\n",
    "if model_path.exists():\n",
    "    model = Fusiform.AffectiveEcModel(feat_dim, hidden_dim, out_dim)\n",
    "    model.load_state_dict(torch.load(model_path))\n",
    "    model.eval()"
   ]
  },
  {
   "cell_type": "code",
   "execution_count": 21,
   "metadata": {},
   "outputs": [],
   "source": [
    "predictor = Fusiform.AffectiveEcPredictor(model, char_space50)"
   ]
  },
  {
   "cell_type": "code",
   "execution_count": 43,
   "metadata": {},
   "outputs": [
    {
     "data": {
      "text/plain": [
       "(14283, 9)"
      ]
     },
     "execution_count": 43,
     "metadata": {},
     "output_type": "execute_result"
    }
   ],
   "source": [
    "afflex.shape"
   ]
  },
  {
   "cell_type": "code",
   "execution_count": 84,
   "metadata": {},
   "outputs": [
    {
     "name": "stdout",
     "output_type": "stream",
     "text": [
      "藍瘦香菇, in train: False => ['Happy', 'Sad']\n",
      "欣喜若狂, in train: True => ['Happy']\n",
      "快樂, in train: True => ['Happy']\n",
      "享樂, in train: True => ['Happy']\n",
      "享受, in train: True => ['Happy']\n",
      "盛怒, in train: True => ['Anger']\n",
      "盛恕, in train: False => ['Anger']\n",
      "爆怒, in train: False => ['Anger']\n",
      "唬爛, in train: True => ['Anger']\n",
      "畫唬爛, in train: False => ['Sad']\n",
      "流言, in train: False => []\n",
      "中立, in train: False => ['Anger']\n",
      "台北, in train: False => ['Happy']\n",
      "台中, in train: False => ['Happy']\n",
      "高雄, in train: False => ['Happy']\n",
      "八卦, in train: True => ['Anger']\n"
     ]
    }
   ],
   "source": [
    "test_lemmas = [\"藍瘦香菇\", \"欣喜若狂\", \"快樂\", \"享樂\", \"享受\", \n",
    "               \"盛怒\", \"盛恕\", \"爆怒\", \"唬爛\", \"畫唬爛\", \"流言\", \n",
    "               \"中立\", \"台北\", \"台中\", \"高雄\", \"八卦\"]\n",
    "for lemma_x in test_lemmas:\n",
    "    preds = predictor.predict_class(lemma_x)\n",
    "    print(f\"{lemma_x}, in train: {lemma_x in afflex.index} => {preds}\")"
   ]
  },
  {
   "cell_type": "code",
   "execution_count": 91,
   "metadata": {},
   "outputs": [],
   "source": [
    "txt = \"\"\"今天在車上睡被上車的外勞大嗓門吵醒\n",
    "一怒之下唱了陳淑樺&羅大佑的滾滾紅塵\n",
    "\"\"\""
   ]
  },
  {
   "cell_type": "code",
   "execution_count": 92,
   "metadata": {},
   "outputs": [],
   "source": [
    "ug = []\n",
    "bg = []\n",
    "tg = []\n",
    "qg = []\n",
    "\n",
    "for i in range(len(txt)):\n",
    "    ug.append(predictor.predict(txt[i:i+1]))\n",
    "    bg.append(predictor.predict(txt[i:i+2]))\n",
    "    tg.append(predictor.predict(txt[i:i+3]))\n",
    "    qg.append(predictor.predict(txt[i:i+4]))\n",
    "    "
   ]
  },
  {
   "cell_type": "code",
   "execution_count": 105,
   "metadata": {},
   "outputs": [
    {
     "data": {
      "image/png": "[encoded data removed]",
      "text/plain": [
       "<Figure size 864x864 with 5 Axes>"
      ]
     },
     "metadata": {
      "needs_background": "light"
     },
     "output_type": "display_data"
    }
   ],
   "source": [
    "from matplotlib import font_manager as fm\n",
    "\n",
    "def plot_class(seq, text, class_idx, label, ax=None):\n",
    "    if not ax:\n",
    "        ax = plt.gca()\n",
    "    ax.plot([x[class_idx] for x in seq], '.', label=label)\n",
    "    prop = fm.FontProperties(fname='C:/Windows/Fonts/msjh.ttc')\n",
    "    for ti, tt in enumerate(text):\n",
    "        ax.text(ti, 0.7, tt, fontproperties=prop)\n",
    "        ax.plot([ti, ti], [0, 1], color='gray', linewidth=0.5)\n",
    "    ax.legend(loc='lower right')\n",
    "fig, axes = plt.subplots(5, 1, figsize=(12,12))\n",
    "plot_class(bg, txt, 0, \"happy\", ax=axes[0])\n",
    "plot_class(bg, txt, 1, \"sad\", ax=axes[1])\n",
    "plot_class(bg, txt, 2, \"fear\", ax=axes[2])\n",
    "plot_class(bg, txt, 3, \"anger\", ax=axes[3])\n",
    "plot_class(bg, txt, 4, \"surprise\", ax=axes[4])"
   ]
  },
  {
   "cell_type": "code",
   "execution_count": 106,
   "metadata": {},
   "outputs": [
    {
     "data": {
      "text/plain": [
       "AffectiveEcModel(\n",
       "  (rnn): GRU(50, 100, batch_first=True)\n",
       "  (h2o): Linear(in_features=100, out_features=5, bias=True)\n",
       ")"
      ]
     },
     "execution_count": 106,
     "metadata": {},
     "output_type": "execute_result"
    }
   ],
   "source": [
    "model"
   ]
  },
  {
   "cell_type": "code",
   "execution_count": null,
   "metadata": {},
   "outputs": [],
   "source": []
  }
 ],
 "metadata": {
  "kernelspec": {
   "display_name": "Python 3",
   "language": "python",
   "name": "python3"
  },
  "language_info": {
   "codemirror_mode": {
    "name": "ipython",
    "version": 3
   },
   "file_extension": ".py",
   "mimetype": "text/x-python",
   "name": "python",
   "nbconvert_exporter": "python",
   "pygments_lexer": "ipython3",
   "version": "3.7.2"
  }
 },
 "nbformat": 4,
 "nbformat_minor": 2
}
