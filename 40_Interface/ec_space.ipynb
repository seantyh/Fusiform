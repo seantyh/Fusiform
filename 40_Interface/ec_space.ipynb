{
 "cells": [
  {
   "cell_type": "code",
   "execution_count": 1,
   "metadata": {},
   "outputs": [],
   "source": [
    "%load_ext autoreload\n",
    "%autoreload 2\n",
    "%matplotlib inline"
   ]
  },
  {
   "cell_type": "code",
   "execution_count": 2,
   "metadata": {},
   "outputs": [],
   "source": [
    "import sys\n",
    "sys.path.append(\"../30_Code/\")"
   ]
  },
  {
   "cell_type": "code",
   "execution_count": 3,
   "metadata": {},
   "outputs": [],
   "source": [
    "import pickle\n",
    "from matplotlib import pyplot as plt\n",
    "import numpy as np"
   ]
  },
  {
   "cell_type": "code",
   "execution_count": 4,
   "metadata": {},
   "outputs": [],
   "source": [
    "import Fusiform"
   ]
  },
  {
   "cell_type": "code",
   "execution_count": 5,
   "metadata": {},
   "outputs": [],
   "source": [
    "cv_path = Fusiform.get_data_path(\"\", \"charac_coeff.pkl\")\n",
    "with open(cv_path, \"rb\") as fin:\n",
    "    cv_itos, cv_stoi, cv_vectors = pickle.load(fin)"
   ]
  },
  {
   "cell_type": "code",
   "execution_count": 6,
   "metadata": {},
   "outputs": [],
   "source": [
    "char_space50 = Fusiform.CharacterSpace(cv_itos, cv_stoi, cv_vectors, n_components=50)"
   ]
  },
  {
   "cell_type": "code",
   "execution_count": 7,
   "metadata": {},
   "outputs": [
    {
     "data": {
      "text/plain": [
       "'曾雀當僧杏畬省磬霎憎螯告番崙谷昏管增蟄畜'"
      ]
     },
     "execution_count": 7,
     "metadata": {},
     "output_type": "execute_result"
    }
   ],
   "source": [
    "\"\".join(char_space50.most_similar('曾'))"
   ]
  },
  {
   "cell_type": "code",
   "execution_count": 8,
   "metadata": {},
   "outputs": [
    {
     "data": {
      "text/plain": [
       "'湖溯潮漏瑚澗瀕瀨溺洞淵潤洲洌測剎瀰湘瀾濁'"
      ]
     },
     "execution_count": 8,
     "metadata": {},
     "output_type": "execute_result"
    }
   ],
   "source": [
    "\"\".join(char_space50.most_similar('湖'))"
   ]
  },
  {
   "cell_type": "code",
   "execution_count": 9,
   "metadata": {},
   "outputs": [
    {
     "data": {
      "text/plain": [
       "'淺淩浚滌波淡流湊沸漩洶沒滲渡淹漾滿疼浴友'"
      ]
     },
     "execution_count": 9,
     "metadata": {},
     "output_type": "execute_result"
    }
   ],
   "source": [
    "\"\".join(char_space50.most_similar('淺'))"
   ]
  },
  {
   "cell_type": "code",
   "execution_count": 10,
   "metadata": {},
   "outputs": [
    {
     "data": {
      "text/plain": [
       "'語諮晤誤診譜謐謂訟詔訶謬諷諾設誘詎認訊諼'"
      ]
     },
     "execution_count": 10,
     "metadata": {},
     "output_type": "execute_result"
    }
   ],
   "source": [
    "\"\".join(char_space50.most_similar('語'))"
   ]
  },
  {
   "cell_type": "code",
   "execution_count": 11,
   "metadata": {},
   "outputs": [
    {
     "data": {
      "text/plain": [
       "'頭頹頷頸頌頻領頒頤頡顏類額顆頰頑預顎碩穎'"
      ]
     },
     "execution_count": 11,
     "metadata": {},
     "output_type": "execute_result"
    }
   ],
   "source": [
    "\"\".join(char_space50.most_similar('頭'))"
   ]
  },
  {
   "cell_type": "code",
   "execution_count": 12,
   "metadata": {},
   "outputs": [
    {
     "data": {
      "text/plain": [
       "'龍鶺廳籠麓韙鬍塵鷦麾壅鵝瓏鶇鷓虐龜鸛薦蘿'"
      ]
     },
     "execution_count": 12,
     "metadata": {},
     "output_type": "execute_result"
    }
   ],
   "source": [
    "\"\".join(char_space50.most_similar('龍'))"
   ]
  },
  {
   "cell_type": "code",
   "execution_count": 13,
   "metadata": {},
   "outputs": [
    {
     "data": {
      "text/plain": [
       "'袍拘拖抱祂袖拋椒惚彬砲枸梆祉撥炮控飽捻槌'"
      ]
     },
     "execution_count": 13,
     "metadata": {},
     "output_type": "execute_result"
    }
   ],
   "source": [
    "\"\".join(char_space50.most_similar('袍'))"
   ]
  },
  {
   "cell_type": "code",
   "execution_count": 37,
   "metadata": {},
   "outputs": [
    {
     "name": "stdout",
     "output_type": "stream",
     "text": [
      "            Positive           |          Negative          \n",
      "------------------------------------------------------------\n",
      "                              ---                              \n",
      " 0 轟 竇 鷹 驀 鑿 囂 攫 鱸 曇 靂 | 一 卜 二 丫 十 丁 入 人 了 小\n",
      "                              ---                              \n",
      " 1 圄 鬩 閘 圓 閩 回 圖 圃 囗 閒 | 值 椿 捧 撞 捷 樁 掩 搐 揍 憧\n",
      "                              ---                              \n",
      " 2 哼 廊 噴 唷 暄 庾 嗑 嘩 棘 瞋 | 摳 揭 擂 揠 捍 提 倡 福 樞 偈\n",
      "                              ---                              \n",
      " 3 樵 棕 粽 柚 鋪 怕 棺 拍 指 捕 | 原 厝 盾 唐 屈 尾 屐 厘 展 屎\n",
      "                              ---                              \n",
      " 4 善 嗐 惶 蝗 幔 模 蟳 羨 這 糢 | 事 辜 毒 喜 曹 壼 肩 單 黃 重\n",
      "                              ---                              \n",
      " 5 青 亭 晴 衰 夢 奏 嗜 冑 障 春 | 姜 美 兼 愚 晏 烏 畬 當 胃 言\n",
      "                              ---                              \n",
      " 6 晨 隻 濡 叢 儒 掌 暑 貧 砦 需 | 嘉 碁 窘 幕 墓 倉 寧 管 氟 專\n",
      "                              ---                              \n",
      " 7 朋 測 洌 捫 捌 伺 朗 汩 倒 側 | 柑 匾 貫 書 景 袒 張 誓 熹 璽\n",
      "                              ---                              \n",
      " 8 襄 書 農 梟 膿 嘍 嚏 責 漬 婁 | 義 壘 議 鎳 霍 奠 尊 儀 儷 屯\n",
      "                              ---                              \n",
      " 9 哩 阻 嘔 道 豎 呃 瞳 曜 哇 喳 | 帥 細 癇 鈾 訕 訓 絀 袖 聒 蝕\n",
      "                              ---                              \n",
      "------------------------------------------------------------\n",
      "                              ---                              \n",
      "10 華 讓 吳 榮 乒 案 貲 乓 扈 章 | 芸 膊 者 芋 岸 鞏 妾 腌 夸 堂\n",
      "                              ---                              \n",
      "11 蛀 畦 趾 肚 蚯 蛇 峙 粒 毗 蛭 | 諫 睏 語 譁 呷 嶼 誤 咱 眼 胴\n",
      "                              ---                              \n",
      "12 鋰 荳 狸 埋 程 錘 誦 理 連 苞 | 告 自 吉 岩 輩 杏 雖 宕 羔 偌\n",
      "                              ---                              \n",
      "13 酉 錯 茜 鉛 鈕 皿 西 詣 佰 鉻 | 剝 判 滬 剃 腫 妺 刑 刊 盹 碉\n",
      "                              ---                              \n",
      "14 炬 汛 啊 湄 治 啾 喇 走 溝 漬 | 貝 飪 兒 釦 蘋 聰 扎 雙 捱 批\n",
      "                              ---                              \n",
      "15 詐 謔 詮 誅 託 訪 訣 註 鍾 誌 | 罕 吼 哦 番 耳 甲 宗 睨 室 呆\n",
      "                              ---                              \n",
      "16 蔓 壽 疇 晝 蘭 瀆 濤 畫 裏 導 | 暈 量 嘗 盧 賞 霉 嚐 震 讒 靈\n",
      "                              ---                              \n",
      "17 讀 鑄 誠 謾 誡 說 詼 諺 試 護 | 面 騎 驊 肆 暈 陣 畸 劈 翼 畔\n",
      "                              ---                              \n",
      "18 課 評 喁 芽 輊 瑪 譎 戟 琛 暉 | 跪 脆 腓 脫 匡 桅 胳 脈 臉 剛\n",
      "                              ---                              \n",
      "19 山 出 屆 囪 追 槽 引 笛 揩 呂 | 篝 菁 賢 霄 灣 覽 賞 霾 臺 摹\n",
      "                              ---                              \n",
      "------------------------------------------------------------\n",
      "                              ---                              \n",
      "20 慮 鯉 柵 牟 帖 壇 遺 鋰 檯 廟 | 剛 糞 跡 蠅 凱 瞥 倖 貲 嗣 涎\n",
      "                              ---                              \n",
      "21 茗 涯 莒 怔 菩 萎 啻 洒 汕 菖 | 掩 串 母 果 甲 束 梅 用 緝 屑\n",
      "                              ---                              \n",
      "22 餉 釗 朝 獅 粥 詡 翔 銅 喇 諭 | 盯 吁 瓢 汀 添 峨 糠 澈 蛾 賺\n",
      "                              ---                              \n",
      "23 鼻 彙 擘 驀 驚 躊 藷 摯 慷 囂 | 奧 根 板 膚 靂 翦 宜 其 牢 桶\n",
      "                              ---                              \n",
      "24 吋 咋 吒 吁 誰 註 咩 昨 倜 愜 | 虜 犢 彙 屢 鼻 跚 虞 鴦 覽 續\n",
      "                              ---                              \n",
      "25 碾 賑 輾 斬 輟 齦 慚 皺 靳 射 | 蹣 纏 襖 荳 躪 惆 蹺 燠 控 胰\n",
      "                              ---                              \n",
      "26 糞 虎 靄 崑 轟 香 港 騰 簍 攙 | 叨 硯 便 苞 碘 茱 筷 檀 碰 現\n",
      "                              ---                              \n",
      "27 姒 運 迎 媛 遵 遲 姪 進 妳 娣 | 紡 紛 絲 統 紐 納 繞 絢 絹 絡\n",
      "                              ---                              \n",
      "28 綾 敏 綏 綬 氓 敬 岷 腴 纓 縷 | 昆 琵 巧 酷 葯 乃 扔 朽 冥 陪\n",
      "                              ---                              \n",
      "29 伕 殃 頂 玟 秩 秧 稗 訣 佑 俱 | 呢 叮 紜 叼 吁 饅 紓 綠 繆 網\n",
      "                              ---                              \n",
      "------------------------------------------------------------\n",
      "                              ---                              \n",
      "30 傲 力 弛 仇 刃 坍 嗷 啦 跛 剋 | 妍 研 迅 韜 奶 糰 箱 筑 賭 相\n",
      "                              ---                              \n",
      "31 媒 娩 妮 嫡 娘 烘 娣 她 目 娥 | 匱 莽 掙 跚 辛 闡 淨 窠 堅 塑\n",
      "                              ---                              \n",
      "32 常 聖 官 空 蜚 宗 當 塑 耕 袪 | 破 毗 璃 醃 橋 鵑 吸 醜 轟 班\n",
      "                              ---                              \n",
      "33 驚 薑 鴛 疊 星 騖 表 驊 黨 瘁 | 囊 簷 薈 膏 聾 鷺 曇 鷲 鰲 續\n",
      "                              ---                              \n",
      "34 輯 叟 喪 胼 癖 澍 幌 恢 颶 轉 | 融 猷 紕 砥 珮 聚 醣 醉 珈 憋\n",
      "                              ---                              \n",
      "35 罐 峰 幅 耀 俾 要 耍 墟 降 娶 | 頻 盈 悉 紙 監 惹 頑 潤 褥 藍\n",
      "                              ---                              \n",
      "36 共 鶩 鷺 嬈 鷥 姚 藝 咕 荒 孀 | 疊 礎 硫 標 庶 琉 層 颱 梯 魂\n",
      "                              ---                              \n",
      "37 羹 竇 簣 忱 驀 廬 袂 伉 沉 況 | 籌 攫 曇 囊 儻 磧 磺 領 鎂 纍\n",
      "                              ---                              \n",
      "38 絕 級 虯 候 姪 娛 崇 蜈 鉅 覲 | 貼 詰 怠 話 榫 鱗 點 憨 除 愈\n",
      "                              ---                              \n",
      "39 蹺 恍 退 留 寅 彼 逗 銳 待 胱 | 蜢 詬 謨 諦 易 黏 孟 詼 泓 某\n",
      "                              ---                              \n",
      "------------------------------------------------------------\n",
      "                              ---                              \n",
      "40 宛 朗 邂 鄂 都 螟 邰 愈 玄 鄒 | 婢 湳 娩 箕 妹 裨 妺 嫌 姬 辣\n",
      "                              ---                              \n",
      "41 箭 飢 炮 餃 咐 焙 斌 贓 殷 貽 | 咋 蓀 繃 罪 菲 憚 醱 酷 荏 酩\n",
      "                              ---                              \n",
      "42 磅 霹 寐 鎊 御 楔 疾 殃 耽 碗 | 樊 敦 拔 奧 威 奐 滅 腸 焚 韻\n",
      "                              ---                              \n",
      "43 懋 齒 麃 眷 計 螂 你 件 券 悉 | 璿 絨 彷 綸 編 績 鴞 擬 縫 斑\n",
      "                              ---                              \n",
      "44 相 犯 扣 狒 豬 狽 扎 猿 狼 狙 | 肝 奸 奶 勛 妍 妖 筋 串 吁 學\n",
      "                              ---                              \n",
      "45 酌 爵 祺 酊 吹 齣 狹 醐 換 醺 | 短 箱 複 館 戰 饅 矮 犁 規 確\n",
      "                              ---                              \n",
      "46 霧 蠟 燠 智 磷 淅 術 減 範 翊 | 決 皇 抉 啜 哄 赧 險 虫 嫗 攝\n",
      "                              ---                              \n",
      "47 嫡 姻 鎔 嬉 垢 鶒 擎 鈉 繁 塢 | 戌 決 灰 戊 跋 富 窿 庄 抉 詼\n",
      "                              ---                              \n",
      "48 野 匙 暄 昊 匐 等 喧 真 逆 秉 | 藹 兼 鵠 焦 轟 姜 鵬 熊 鴞 籠\n",
      "                              ---                              \n",
      "49 雪 塹 墅 斬 幹 毀 靳 軟 壺 寅 | 羹 簷 親 趙 瓠 貳 響 郁 鷲 囂\n",
      "                              ---                              \n"
     ]
    }
   ],
   "source": [
    "print(\"   {:^27s} | {:^27s}\".format(\"Positive\", \"Negative\"))\n",
    "for compo_i in range(50):\n",
    "    if compo_i % 10 == 0:\n",
    "        print(\"-\" * 60)\n",
    "        print(\"---\".center(63))\n",
    "    pos = \" \".join(char_space50.most_loaded(compo_i, ascending=False))\n",
    "    neg = \" \".join(char_space50.most_loaded(compo_i, ascending=True))\n",
    "    print(\"{:>2d} {:s} | {:s}\".format(compo_i, pos, neg))\n",
    "    print(\"---\".center(63))"
   ]
  },
  {
   "cell_type": "code",
   "execution_count": null,
   "metadata": {},
   "outputs": [],
   "source": []
  }
 ],
 "metadata": {
  "kernelspec": {
   "display_name": "Python 3",
   "language": "python",
   "name": "python3"
  },
  "language_info": {
   "codemirror_mode": {
    "name": "ipython",
    "version": 3
   },
   "file_extension": ".py",
   "mimetype": "text/x-python",
   "name": "python",
   "nbconvert_exporter": "python",
   "pygments_lexer": "ipython3",
   "version": "3.7.2"
  }
 },
 "nbformat": 4,
 "nbformat_minor": 2
}
